{
 "cells": [
  {
   "cell_type": "code",
   "execution_count": 2,
   "metadata": {
    "collapsed": false
   },
   "outputs": [
    {
     "name": "stdout",
     "output_type": "stream",
     "text": [
      "Arquivo de treinamento e testes de imóveis carregado com sucesso!\n",
      "valor               object\n",
      "bairro              object\n",
      "obs                 object\n",
      "tipo                object\n",
      "dormitorios        float64\n",
      "banheiros          float64\n",
      "vagasGaragem       float64\n",
      "metragem           float64\n",
      "codigo              object\n",
      "bomInvestimento       bool\n",
      "dtype: object\n"
     ]
    },
    {
     "data": {
      "text/html": [
       "<div>\n",
       "<table border=\"1\" class=\"dataframe\">\n",
       "  <thead>\n",
       "    <tr style=\"text-align: right;\">\n",
       "      <th></th>\n",
       "      <th>dormitorios</th>\n",
       "      <th>banheiros</th>\n",
       "      <th>vagasGaragem</th>\n",
       "      <th>metragem</th>\n",
       "    </tr>\n",
       "  </thead>\n",
       "  <tbody>\n",
       "    <tr>\n",
       "      <th>count</th>\n",
       "      <td>249.000000</td>\n",
       "      <td>249.0</td>\n",
       "      <td>249.000000</td>\n",
       "      <td>249.000000</td>\n",
       "    </tr>\n",
       "    <tr>\n",
       "      <th>mean</th>\n",
       "      <td>2.650602</td>\n",
       "      <td>1.0</td>\n",
       "      <td>0.465863</td>\n",
       "      <td>143.201245</td>\n",
       "    </tr>\n",
       "    <tr>\n",
       "      <th>std</th>\n",
       "      <td>0.908300</td>\n",
       "      <td>0.0</td>\n",
       "      <td>0.499838</td>\n",
       "      <td>111.763697</td>\n",
       "    </tr>\n",
       "    <tr>\n",
       "      <th>min</th>\n",
       "      <td>1.000000</td>\n",
       "      <td>1.0</td>\n",
       "      <td>0.000000</td>\n",
       "      <td>0.000000</td>\n",
       "    </tr>\n",
       "    <tr>\n",
       "      <th>25%</th>\n",
       "      <td>2.000000</td>\n",
       "      <td>1.0</td>\n",
       "      <td>0.000000</td>\n",
       "      <td>74.480000</td>\n",
       "    </tr>\n",
       "    <tr>\n",
       "      <th>50%</th>\n",
       "      <td>3.000000</td>\n",
       "      <td>1.0</td>\n",
       "      <td>0.000000</td>\n",
       "      <td>113.940000</td>\n",
       "    </tr>\n",
       "    <tr>\n",
       "      <th>75%</th>\n",
       "      <td>3.000000</td>\n",
       "      <td>1.0</td>\n",
       "      <td>1.000000</td>\n",
       "      <td>182.000000</td>\n",
       "    </tr>\n",
       "    <tr>\n",
       "      <th>max</th>\n",
       "      <td>10.000000</td>\n",
       "      <td>1.0</td>\n",
       "      <td>1.000000</td>\n",
       "      <td>1300.000000</td>\n",
       "    </tr>\n",
       "  </tbody>\n",
       "</table>\n",
       "</div>"
      ],
      "text/plain": [
       "       dormitorios  banheiros  vagasGaragem     metragem\n",
       "count   249.000000      249.0    249.000000   249.000000\n",
       "mean      2.650602        1.0      0.465863   143.201245\n",
       "std       0.908300        0.0      0.499838   111.763697\n",
       "min       1.000000        1.0      0.000000     0.000000\n",
       "25%       2.000000        1.0      0.000000    74.480000\n",
       "50%       3.000000        1.0      0.000000   113.940000\n",
       "75%       3.000000        1.0      1.000000   182.000000\n",
       "max      10.000000        1.0      1.000000  1300.000000"
      ]
     },
     "metadata": {},
     "output_type": "display_data"
    },
    {
     "name": "stdout",
     "output_type": "stream",
     "text": [
      "Bons investimentos: 17\n",
      "Maus investimentos: 232\n",
      "Tamanho médio das casas com bom investimento: 261.931176471\n",
      "Tamanho médio das casas mal investimento: 134.501206897\n",
      "Número médio de dormitórios bom investimento: 2.88235294118\n",
      "Número médio de dormitórios mal investimento: 2.63362068966\n"
     ]
    }
   ],
   "source": [
    "#Importação das bibliotecas para leitura do arquivo csv, classes para divisão em treinamento e testes, \n",
    "#algoritmos DecisionTreeClassifier e svm\n",
    "import pandas as pd\n",
    "from IPython.display import display\n",
    "from sklearn.model_selection import train_test_split\n",
    "from sklearn.model_selection import GridSearchCV\n",
    "from sklearn.tree import DecisionTreeClassifier\n",
    "from sklearn import svm\n",
    "\n",
    "%matplotlib inline\n",
    "\n",
    "#Leitura do arquivo para treinamento e testes. Este é o arquivo que foi modificado e que possui uma coluna booleana \n",
    "#bomIvestimento que foi definida com a ajuda de um especialista na área imobiliária\n",
    "try:\n",
    "    data = pd.read_csv(\"imoveis-treinamento-testes.csv\", sep=\";\")\n",
    "    print \"Arquivo de treinamento e testes de imóveis carregado com sucesso!\"\n",
    "except:\n",
    "    print \"Dataset não pode ser carregado!\"\n",
    "\n",
    "    \n",
    "#Troca 0.0 para False e 1.0 para True na coluna bomIvestimento\n",
    "data['bomInvestimento'] = data['bomInvestimento'].map({0.0: False, 1.0: True}) \n",
    "\n",
    "#Preenche valores padrões para coluna de banheiros, vagas na garagem, dormitórios\n",
    "#E metragem da casa\n",
    "data['banheiros'] = data['banheiros'].fillna(1)\n",
    "data['vagasGaragem'] = data['vagasGaragem'].fillna(0)\n",
    "data['dormitorios'] = data['dormitorios'].fillna(1)\n",
    "data['metragem'] = data['metragem'].fillna(0)\n",
    "\n",
    "#Remove imóveis com preço sob consulta\n",
    "data = data.drop(data[data.valor == \"Sob consulta\"].index)\n",
    "\n",
    "#Mostro os tipos de dados de cada coluna para saber se a conversão foi feita corretamente\n",
    "print data.dtypes\n",
    "\n",
    "#Mostro algumas estatísticas do dataset\n",
    "display(data.describe())\n",
    "\n",
    "#Outras estatísticas sobre o conteúdo do dataset\n",
    "print \"Bons investimentos: \" + str(len(data[data.bomInvestimento]))\n",
    "print \"Maus investimentos: \" + str(len(data[data.bomInvestimento == False]))\n",
    "print \"Tamanho médio das casas com bom investimento: \" + str(data[data.bomInvestimento].metragem.mean())\n",
    "print \"Tamanho médio das casas mal investimento: \" + str(data[data.bomInvestimento == False].metragem.mean())\n",
    "print \"Número médio de dormitórios bom investimento: \" + str(data[data.bomInvestimento].dormitorios.mean())\n",
    "print \"Número médio de dormitórios mal investimento: \" + str(data[data.bomInvestimento == False].dormitorios.mean())"
   ]
  },
  {
   "cell_type": "code",
   "execution_count": 36,
   "metadata": {
    "collapsed": false
   },
   "outputs": [
    {
     "name": "stdout",
     "output_type": "stream",
     "text": [
      "Score usando algoritmo DecisionTreeClassifier: 0.906666666667\n",
      "Score usando algoritmo SVC: 0.946666666667\n"
     ]
    }
   ],
   "source": [
    "# Fiz uma cópia do dataframe original removendo colunas não usadas para o fim de treinamento e testes\n",
    "new_data = data.drop(['bomInvestimento', 'codigo', 'bairro', 'obs', 'tipo'], axis = 1)\n",
    "\n",
    "#Divisão do dataset para fins de treinamento e testes\n",
    "X_train, X_test, y_train, y_test = train_test_split(new_data, data['bomInvestimento'], test_size=0.30, random_state=158)\n",
    "\n",
    "#Aplicando o algoritmo DecisionTreeClassifier e exibindo o score\n",
    "dt = DecisionTreeClassifier(random_state=160)\n",
    "dt.fit(X_train, y_train)\n",
    "print \"Score usando algoritmo DecisionTreeClassifier: \" + str(dt.score(X_test, y_test))\n",
    "\n",
    "aSvm = svm.SVC(random_state=160)\n",
    "aSvm.fit(X_train, y_train)\n",
    "print \"Score usando algoritmo SVC: \" + str(aSvm.score(X_test, y_test))"
   ]
  },
  {
   "cell_type": "code",
   "execution_count": 59,
   "metadata": {
    "collapsed": false
   },
   "outputs": [
    {
     "name": "stdout",
     "output_type": "stream",
     "text": [
      "Score do algoritmo DecisionTreeClassifier com GridSearchCV: 0.96\n",
      "Melhores parâmetros encontrados para DecisionTreeClassifier\n",
      "{'min_samples_split': 2, 'random_state': 3, 'criterion': 'gini'}\n",
      "Score do algoritmo SVC com GridSearchCV: 0.946666666667\n",
      "Melhores parâmetros encontrados para SVC\n",
      "{'kernel': 'sigmoid', 'C': 0.01, 'random_state': 1}\n"
     ]
    }
   ],
   "source": [
    "#Usando GridSearchCV para encontrar parâmetros melhores para os algoritmos de classificação\n",
    "parametersDT = {\n",
    "    'criterion': ['gini', 'entropy'], \n",
    "    'random_state': range(1,50),\n",
    "    'min_samples_split': [2,3]\n",
    "}\n",
    "regressorDT = DecisionTreeClassifier()\n",
    "clf2 = GridSearchCV(regressorDT, parametersDT, n_jobs=2)\n",
    "clf2.fit(X_train, y_train)\n",
    "score = clf2.best_estimator_.score(X_test, y_test)\n",
    "print \"Score do algoritmo DecisionTreeClassifier com GridSearchCV: \" + str(score)\n",
    "print \"Melhores parâmetros encontrados para DecisionTreeClassifier\"\n",
    "print clf2.best_params_\n",
    "\n",
    "\n",
    "parametersSVC = {\n",
    "    'C': [0.01, 0.1, 0.5, 1] , \n",
    "    'kernel': ['sigmoid', 'rbf'], \n",
    "    'random_state': range(1,100)\n",
    "}\n",
    "regressorSVC = svm.SVC()\n",
    "clf1 = GridSearchCV(regressorSVC, parametersSVC, n_jobs=2)\n",
    "clf1.fit(X_train, y_train)\n",
    "# TODO: Reportar a pontuação da previsão utilizando o conjunto de teste\n",
    "score = clf1.best_estimator_.score(X_test, y_test)\n",
    "print \"Score do algoritmo SVC com GridSearchCV: \" + str(score)\n",
    "print \"Melhores parâmetros encontrados para SVC\"\n",
    "print clf1.best_params_\n",
    "\n"
   ]
  }
 ],
 "metadata": {
  "kernelspec": {
   "display_name": "Python 2",
   "language": "python",
   "name": "python2"
  },
  "language_info": {
   "codemirror_mode": {
    "name": "ipython",
    "version": 2
   },
   "file_extension": ".py",
   "mimetype": "text/x-python",
   "name": "python",
   "nbconvert_exporter": "python",
   "pygments_lexer": "ipython2",
   "version": "2.7.12"
  }
 },
 "nbformat": 4,
 "nbformat_minor": 2
}
