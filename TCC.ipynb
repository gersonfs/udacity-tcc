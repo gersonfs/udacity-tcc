{
 "cells": [
  {
   "cell_type": "code",
   "execution_count": 50,
   "metadata": {
    "collapsed": false
   },
   "outputs": [
    {
     "name": "stdout",
     "output_type": "stream",
     "text": [
      "Wholesale customers dataset has 250 samples with 8 features each.\n",
      "valor               object\n",
      "bairro              object\n",
      "dormitorios        float64\n",
      "banheiros          float64\n",
      "vagasGaragem       float64\n",
      "metragem           float64\n",
      "codigo              object\n",
      "bomInvestimento       bool\n",
      "dtype: object\n"
     ]
    },
    {
     "data": {
      "text/html": [
       "<div>\n",
       "<table border=\"1\" class=\"dataframe\">\n",
       "  <thead>\n",
       "    <tr style=\"text-align: right;\">\n",
       "      <th></th>\n",
       "      <th>dormitorios</th>\n",
       "      <th>banheiros</th>\n",
       "      <th>vagasGaragem</th>\n",
       "      <th>metragem</th>\n",
       "    </tr>\n",
       "  </thead>\n",
       "  <tbody>\n",
       "    <tr>\n",
       "      <th>count</th>\n",
       "      <td>249.000000</td>\n",
       "      <td>249.0</td>\n",
       "      <td>249.000000</td>\n",
       "      <td>249.000000</td>\n",
       "    </tr>\n",
       "    <tr>\n",
       "      <th>mean</th>\n",
       "      <td>2.650602</td>\n",
       "      <td>1.0</td>\n",
       "      <td>0.465863</td>\n",
       "      <td>143.201245</td>\n",
       "    </tr>\n",
       "    <tr>\n",
       "      <th>std</th>\n",
       "      <td>0.908300</td>\n",
       "      <td>0.0</td>\n",
       "      <td>0.499838</td>\n",
       "      <td>111.763697</td>\n",
       "    </tr>\n",
       "    <tr>\n",
       "      <th>min</th>\n",
       "      <td>1.000000</td>\n",
       "      <td>1.0</td>\n",
       "      <td>0.000000</td>\n",
       "      <td>0.000000</td>\n",
       "    </tr>\n",
       "    <tr>\n",
       "      <th>25%</th>\n",
       "      <td>2.000000</td>\n",
       "      <td>1.0</td>\n",
       "      <td>0.000000</td>\n",
       "      <td>74.480000</td>\n",
       "    </tr>\n",
       "    <tr>\n",
       "      <th>50%</th>\n",
       "      <td>3.000000</td>\n",
       "      <td>1.0</td>\n",
       "      <td>0.000000</td>\n",
       "      <td>113.940000</td>\n",
       "    </tr>\n",
       "    <tr>\n",
       "      <th>75%</th>\n",
       "      <td>3.000000</td>\n",
       "      <td>1.0</td>\n",
       "      <td>1.000000</td>\n",
       "      <td>182.000000</td>\n",
       "    </tr>\n",
       "    <tr>\n",
       "      <th>max</th>\n",
       "      <td>10.000000</td>\n",
       "      <td>1.0</td>\n",
       "      <td>1.000000</td>\n",
       "      <td>1300.000000</td>\n",
       "    </tr>\n",
       "  </tbody>\n",
       "</table>\n",
       "</div>"
      ],
      "text/plain": [
       "       dormitorios  banheiros  vagasGaragem     metragem\n",
       "count   249.000000      249.0    249.000000   249.000000\n",
       "mean      2.650602        1.0      0.465863   143.201245\n",
       "std       0.908300        0.0      0.499838   111.763697\n",
       "min       1.000000        1.0      0.000000     0.000000\n",
       "25%       2.000000        1.0      0.000000    74.480000\n",
       "50%       3.000000        1.0      0.000000   113.940000\n",
       "75%       3.000000        1.0      1.000000   182.000000\n",
       "max      10.000000        1.0      1.000000  1300.000000"
      ]
     },
     "metadata": {},
     "output_type": "display_data"
    },
    {
     "name": "stdout",
     "output_type": "stream",
     "text": [
      "Bons investimentos: 17\n",
      "Maus investimentos: 232\n",
      "Tamanho médio das casas com bom investimento: 261.931176471\n",
      "Tamanho médio das casas mal investimento: 134.501206897\n",
      "Número médio de dormitórios bom investimento: 2.88235294118\n",
      "Número médio de dormitórios mal investimento: 2.63362068966\n"
     ]
    }
   ],
   "source": [
    "import numpy as np\n",
    "import pandas as pd\n",
    "from IPython.display import display # Allows the use of display() for DataFrames\n",
    "\n",
    "%matplotlib inline\n",
    "\n",
    "\n",
    "try:\n",
    "    data = pd.read_csv(\"imoveis-treinamento-testes.csv\", sep=\";\")\n",
    "    data.drop(['obs', 'tipo'], axis = 1, inplace = True)\n",
    "    print \"Wholesale customers dataset has {} samples with {} features each.\".format(*data.shape)\n",
    "except:\n",
    "    print \"Dataset could not be loaded. Is the dataset missing?\"\n",
    "\n",
    "data['bomInvestimento'] = data['bomInvestimento'].map({0.0: False, 1.0: True}) \n",
    "\n",
    "data['banheiros'] = data['banheiros'].fillna(1)\n",
    "data['vagasGaragem'] = data['vagasGaragem'].fillna(0)\n",
    "data['dormitorios'] = data['dormitorios'].fillna(1)\n",
    "data['metragem'] = data['metragem'].fillna(0)\n",
    "\n",
    "data = data.drop(data[data.valor == \"Sob consulta\"].index)\n",
    "\n",
    "print data.dtypes\n",
    "\n",
    "display(data.describe())\n",
    "\n",
    "print \"Bons investimentos: \" + str(len(data[data.bomInvestimento]))\n",
    "print \"Maus investimentos: \" + str(len(data[data.bomInvestimento == False]))\n",
    "print \"Tamanho médio das casas com bom investimento: \" + str(data[data.bomInvestimento].metragem.mean())\n",
    "print \"Tamanho médio das casas mal investimento: \" + str(data[data.bomInvestimento == False].metragem.mean())\n",
    "print \"Número médio de dormitórios bom investimento: \" + str(data[data.bomInvestimento].dormitorios.mean())\n",
    "print \"Número médio de dormitórios mal investimento: \" + str(data[data.bomInvestimento == False].dormitorios.mean())"
   ]
  },
  {
   "cell_type": "code",
   "execution_count": 59,
   "metadata": {
    "collapsed": false
   },
   "outputs": [
    {
     "name": "stdout",
     "output_type": "stream",
     "text": [
      "0.968253968254\n"
     ]
    }
   ],
   "source": [
    "from sklearn.model_selection import train_test_split\n",
    "from sklearn.tree import DecisionTreeClassifier\n",
    "from sklearn.model_selection import GridSearchCV\n",
    "from sklearn.neighbors import KNeighborsClassifier\n",
    "from sklearn import svm\n",
    "\n",
    "# TODO: Fazer uma cópia do DataFrame utilizando a função 'drop' para soltar o atributo dado\n",
    "new_data = data.drop(['bomInvestimento', 'codigo', 'bairro'], axis = 1)\n",
    "\n",
    "# TODO: Dividir os dados em conjuntos de treinamento e teste utilizando o atributo dado como o alvo\n",
    "\n",
    "X_train, X_test, y_train, y_test = train_test_split(new_data, data['bomInvestimento'], test_size=0.25, random_state=1)\n",
    "# TODO: Criar um árvore de decisão regressora e ajustá-la ao conjunto de treinamento\n",
    "\n",
    "#parameters = {'random_state': range(1,200)}\n",
    "parameters = {'n_neighbors': range(1,5)}\n",
    "\n",
    "#regressor = svm.SVC()\n",
    "regressor = KNeighborsClassifier()\n",
    "clf = GridSearchCV(regressor, parameters, n_jobs=2)\n",
    "clf.fit(X_train, y_train)\n",
    "\n",
    "# TODO: Reportar a pontuação da previsão utilizando o conjunto de teste\n",
    "score = clf.best_estimator_.score(X_test, y_test)\n",
    "print score\n"
   ]
  }
 ],
 "metadata": {
  "kernelspec": {
   "display_name": "Python 2",
   "language": "python",
   "name": "python2"
  },
  "language_info": {
   "codemirror_mode": {
    "name": "ipython",
    "version": 2
   },
   "file_extension": ".py",
   "mimetype": "text/x-python",
   "name": "python",
   "nbconvert_exporter": "python",
   "pygments_lexer": "ipython2",
   "version": "2.7.12"
  }
 },
 "nbformat": 4,
 "nbformat_minor": 2
}
